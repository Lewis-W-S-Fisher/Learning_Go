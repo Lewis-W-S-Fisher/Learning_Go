{
 "cells": [
  {
   "cell_type": "markdown",
   "metadata": {},
   "source": [
    "# Learning to develop in Go \n"
   ]
  },
  {
   "cell_type": "code",
   "execution_count": null,
   "metadata": {
    "vscode": {
     "languageId": "shellscript"
    }
   },
   "outputs": [],
   "source": [
    "# from the directory with the scripts i.e the package dir\n",
    "go run .\n",
    "\n",
    "# get module from go pkg webpage \n",
    "go get rsc.io/quote\n"
   ]
  }
 ],
 "metadata": {
  "language_info": {
   "name": "python"
  }
 },
 "nbformat": 4,
 "nbformat_minor": 2
}
